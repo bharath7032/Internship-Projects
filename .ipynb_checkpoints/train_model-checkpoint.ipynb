{
 "cells": [
  {
   "cell_type": "code",
   "execution_count": 1,
   "id": "ab4451c4",
   "metadata": {},
   "outputs": [],
   "source": [
    "import os\n",
    "import xml.etree.ElementTree as ET\n",
    "import pandas as pd\n",
    "from sklearn.feature_extraction.text import TfidfVectorizer\n",
    "from sklearn.metrics.pairwise import cosine_similarity\n"
   ]
  },
  {
   "cell_type": "code",
   "execution_count": 3,
   "id": "a97d89cc",
   "metadata": {},
   "outputs": [
    {
     "name": "stdout",
     "output_type": "stream",
     "text": [
      "Files/Folders inside MedQuAD-master: ['10_MPlus_ADAM_QA', '11_MPlusDrugs_QA', '12_MPlusHerbsSupplements_QA', '1_CancerGov_QA', '2_GARD_QA']\n"
     ]
    }
   ],
   "source": [
    "data_dir = r\"C:\\Users\\sbhar\\projects\\medquad_qa_chatbot\\data\\MedQuAD-master\"\n",
    "print(\"Files/Folders inside MedQuAD-master:\", os.listdir(data_dir)[:5])\n"
   ]
  },
  {
   "cell_type": "code",
   "execution_count": 10,
   "id": "1b68aefd",
   "metadata": {},
   "outputs": [
    {
     "name": "stdout",
     "output_type": "stream",
     "text": [
      "Total QA pairs collected: 16407\n"
     ]
    }
   ],
   "source": [
    "import os\n",
    "import xml.etree.ElementTree as ET\n",
    "import pandas as pd\n",
    "\n",
    "data_dir = r\"C:\\Users\\sbhar\\projects\\medquad_qa_chatbot\\data\\MedQuAD-master\"\n",
    "qa_pairs = []\n",
    "\n",
    "# Walk through all subfolders\n",
    "for root_dir, dirs, files in os.walk(data_dir):\n",
    "    for file in files:\n",
    "        if file.endswith(\".xml\"):\n",
    "            file_path = os.path.join(root_dir, file)\n",
    "            try:\n",
    "                tree = ET.parse(file_path)\n",
    "                root = tree.getroot()\n",
    "                for qa in root.findall(\".//QAPair\"):\n",
    "                    q = qa.find(\"Question\").text\n",
    "                    a = qa.find(\"Answer\").text\n",
    "                    if q and a:\n",
    "                        qa_pairs.append((q.strip(), a.strip()))\n",
    "            except Exception as e:\n",
    "                print(f\"❌ Error reading {file_path}: {e}\")\n",
    "\n",
    "print(\"Total QA pairs collected:\", len(qa_pairs))\n"
   ]
  },
  {
   "cell_type": "code",
   "execution_count": 11,
   "id": "87c69d22",
   "metadata": {},
   "outputs": [
    {
     "name": "stdout",
     "output_type": "stream",
     "text": [
      "✅ Saved to C:\\Users\\sbhar\\projects\\medquad_qa_chatbot\\data\\medquad_qa.csv\n"
     ]
    },
    {
     "data": {
      "text/html": [
       "<div>\n",
       "<style scoped>\n",
       "    .dataframe tbody tr th:only-of-type {\n",
       "        vertical-align: middle;\n",
       "    }\n",
       "\n",
       "    .dataframe tbody tr th {\n",
       "        vertical-align: top;\n",
       "    }\n",
       "\n",
       "    .dataframe thead th {\n",
       "        text-align: right;\n",
       "    }\n",
       "</style>\n",
       "<table border=\"1\" class=\"dataframe\">\n",
       "  <thead>\n",
       "    <tr style=\"text-align: right;\">\n",
       "      <th></th>\n",
       "      <th>question</th>\n",
       "      <th>answer</th>\n",
       "    </tr>\n",
       "  </thead>\n",
       "  <tbody>\n",
       "    <tr>\n",
       "      <th>0</th>\n",
       "      <td>What is (are) Adult Acute Lymphoblastic Leukem...</td>\n",
       "      <td>Key Points\\n                    - Adult acute ...</td>\n",
       "    </tr>\n",
       "    <tr>\n",
       "      <th>1</th>\n",
       "      <td>What are the symptoms of Adult Acute Lymphobla...</td>\n",
       "      <td>Signs and symptoms of adult ALL include fever,...</td>\n",
       "    </tr>\n",
       "    <tr>\n",
       "      <th>2</th>\n",
       "      <td>How to diagnose Adult Acute Lymphoblastic Leuk...</td>\n",
       "      <td>Tests that examine the blood and bone marrow a...</td>\n",
       "    </tr>\n",
       "    <tr>\n",
       "      <th>3</th>\n",
       "      <td>What is the outlook for Adult Acute Lymphoblas...</td>\n",
       "      <td>Certain factors affect prognosis (chance of re...</td>\n",
       "    </tr>\n",
       "    <tr>\n",
       "      <th>4</th>\n",
       "      <td>Who is at risk for Adult Acute Lymphoblastic L...</td>\n",
       "      <td>Previous chemotherapy and exposure to radiatio...</td>\n",
       "    </tr>\n",
       "  </tbody>\n",
       "</table>\n",
       "</div>"
      ],
      "text/plain": [
       "                                            question  \\\n",
       "0  What is (are) Adult Acute Lymphoblastic Leukem...   \n",
       "1  What are the symptoms of Adult Acute Lymphobla...   \n",
       "2  How to diagnose Adult Acute Lymphoblastic Leuk...   \n",
       "3  What is the outlook for Adult Acute Lymphoblas...   \n",
       "4  Who is at risk for Adult Acute Lymphoblastic L...   \n",
       "\n",
       "                                              answer  \n",
       "0  Key Points\\n                    - Adult acute ...  \n",
       "1  Signs and symptoms of adult ALL include fever,...  \n",
       "2  Tests that examine the blood and bone marrow a...  \n",
       "3  Certain factors affect prognosis (chance of re...  \n",
       "4  Previous chemotherapy and exposure to radiatio...  "
      ]
     },
     "execution_count": 11,
     "metadata": {},
     "output_type": "execute_result"
    }
   ],
   "source": [
    "df = pd.DataFrame(qa_pairs, columns=[\"question\", \"answer\"])\n",
    "csv_path = r\"C:\\Users\\sbhar\\projects\\medquad_qa_chatbot\\data\\medquad_qa.csv\"\n",
    "df.to_csv(csv_path, index=False)\n",
    "print(\"✅ Saved to\", csv_path)\n",
    "df.head()\n"
   ]
  },
  {
   "cell_type": "code",
   "execution_count": 12,
   "id": "0ffd97c9",
   "metadata": {},
   "outputs": [
    {
     "name": "stdout",
     "output_type": "stream",
     "text": [
      "✅ Retriever ready!\n"
     ]
    }
   ],
   "source": [
    "from sklearn.feature_extraction.text import TfidfVectorizer\n",
    "from sklearn.metrics.pairwise import cosine_similarity\n",
    "\n",
    "vectorizer = TfidfVectorizer(stop_words=\"english\")\n",
    "X = vectorizer.fit_transform(df[\"question\"])\n",
    "\n",
    "def get_answer(user_q):\n",
    "    q_vec = vectorizer.transform([user_q])\n",
    "    sims = cosine_similarity(q_vec, X)\n",
    "    idx = sims.argmax()\n",
    "    return df.iloc[idx][\"answer\"]\n",
    "\n",
    "print(\"✅ Retriever ready!\")\n"
   ]
  },
  {
   "cell_type": "code",
   "execution_count": 13,
   "id": "da1b69a2",
   "metadata": {},
   "outputs": [
    {
     "name": "stdout",
     "output_type": "stream",
     "text": [
      "Q: What are the symptoms of diabetes?\n",
      "A: Diabetes is often called a \"silent\" disease because it can cause serious complications even before you have symptoms. Symptoms can also be so mild that you dont notice them. An estimated 8 million people in the United States have type 2 diabetes and dont know it, according to 2012 estimates by the Centers for Disease Control and Prevention (CDC). Common Signs Some common symptoms of diabetes are: - being very thirsty  - frequent urination  - feeling very hungry or tired  - losing weight without trying  - having sores that heal slowly  - having dry, itchy skin  - loss of feeling or tingling in the feet  - having blurry eyesight. being very thirsty frequent urination feeling very hungry or tired losing weight without trying having sores that heal slowly having dry, itchy skin loss of feeling or tingling in the feet having blurry eyesight. Signs of type 1 diabetes usually develop over a short period of time. The signs for type 2 diabetes develop more gradually. Tests for Diabetes The following tests are used to diagnose diabetes or prediabetes. - An A1C test measures your average blood glucose levels over the past 3 months. It can be used to diagnose type 2 diabetes and prediabetes. It does not require fasting and blood can be drawn for the test any time of the day.  An A1C test measures your average blood glucose levels over the past 3 months. It can be used to diagnose type 2 diabetes and prediabetes. It does not require fasting and blood can be drawn for the test any time of the day. - A fasting plasma glucose, or FPG test, measures your blood glucose after you have gone at least 8 hours without eating. Doctors use this test to detect diabetes or prediabetes.  A fasting plasma glucose, or FPG test, measures your blood glucose after you have gone at least 8 hours without eating. Doctors use this test to detect diabetes or prediabetes. - In a random plasma glucose test, your doctor checks your blood glucose without regard to when you ate your last meal. This test, along with an assessment of symptoms, is used to diagnose diabetes but not prediabetes.  In a random plasma glucose test, your doctor checks your blood glucose without regard to when you ate your last meal. This test, along with an assessment of symptoms, is used to diagnose diabetes but not prediabetes. - An oral glucose tolerance test, or OGTT, measures your blood glucose after you have gone at least 8 hours without eating and 2 hours after you drink a sweet beverage. Doctors also use the oral glucose tolerance test to diagnose gestational diabetes in pregnant women.  An oral glucose tolerance test, or OGTT, measures your blood glucose after you have gone at least 8 hours without eating and 2 hours after you drink a sweet beverage. Doctors also use the oral glucose tolerance test to diagnose gestational diabetes in pregnant women. If any of these tests show that you might have diabetes, your doctor will need to repeat the test with a second measurement unless there are clear symptoms of diabetes. Get more details about tests for diabetes. Who Should Get Tested? Because type 2 diabetes is more common in older people, anyone who is 45 or older should consider getting tested. If you are 45 or older and overweight, getting tested is strongly recommended. If you are younger than 45, overweight, and have one or more risk factors, you also should talk with your doctor about being tested. See risk factors for type 2 diabetes. Why Early Detection is Important Diabetes is a serious disease that can lead to a number of health problems such as heart disease, stroke, vision problems, kidney disease and even death. Sometimes people have symptoms but do not suspect diabetes. They delay scheduling a checkup because they do not feel sick. Many people do not find out they have the disease until they have diabetes complications, such as a heart attack or stroke. Finding out early if you have diabetes is important because treatment can prevent or delay the complications of the disease.\n"
     ]
    }
   ],
   "source": [
    "test_q = \"What are the symptoms of diabetes?\"\n",
    "print(\"Q:\", test_q)\n",
    "print(\"A:\", get_answer(test_q))\n"
   ]
  },
  {
   "cell_type": "code",
   "execution_count": null,
   "id": "ac768a5e",
   "metadata": {},
   "outputs": [],
   "source": []
  }
 ],
 "metadata": {
  "kernelspec": {
   "display_name": "Python 3 (ipykernel)",
   "language": "python",
   "name": "python3"
  },
  "language_info": {
   "codemirror_mode": {
    "name": "ipython",
    "version": 3
   },
   "file_extension": ".py",
   "mimetype": "text/x-python",
   "name": "python",
   "nbconvert_exporter": "python",
   "pygments_lexer": "ipython3",
   "version": "3.10.9"
  }
 },
 "nbformat": 4,
 "nbformat_minor": 5
}
